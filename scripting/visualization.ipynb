{
 "cells": [
  {
   "cell_type": "code",
   "execution_count": 1,
   "metadata": {},
   "outputs": [],
   "source": [
    "import os\n",
    "import warnings\n",
    "import time\n",
    "from pathlib import Path\n",
    "import matplotlib.pyplot as plt\n",
    "import numpy as np\n",
    "import pandas as pd\n",
    "warnings.filterwarnings(\"ignore\")\n",
    "DATA_DIR = \"/home/bookboi/Nextcloud/1_Docs/4_Master/20_Studienarbeit_paper/data/datensatz_dominik/2 (copy)/\"\n",
    "data_file = \"01_WorldPositions_zweiteAuslieferung.csv\"\n",
    "os.chdir(\"/home/bookboi/Nextcloud/1_Docs/4_Master/21_Studienarbeit_coding/\")\n",
    "from calibration_tool.data_integration.data_set import DataSet\n",
    "from calibration_tool.data_integration.case_identification import (\n",
    "    following_cars, car_goes_straight)\n",
    "from calibration_tool.data_integration.helper import get_lane, get_angle\n",
    "data_set = DataSet(DATA_DIR)\n",
    "data_frame, meta_data, lane_data = data_set.get_dataframes_by_id(\"01\")\n",
    "use_xy = False\n",
    "crossing_points = [\n",
    "    9.191343,\n",
    "    48.788692,\n",
    "    9.191638,\n",
    "    48.788567\n",
    "]\n",
    "dtypes = {\n",
    "    \"leader\": int,\n",
    "    \"follower\": float,\n",
    "    \"lane\": int,\n",
    "    \"leaderIntersectionCrossing\": float,\n",
    "    \"followerIntersectionCrossing\": float,\n",
    "    \"recordingId\": int\n",
    "}"
   ]
  },
  {
   "cell_type": "code",
   "execution_count": null,
   "metadata": {},
   "outputs": [
    {
     "name": "stderr",
     "output_type": "stream",
     "text": [
      "/tmp/ipykernel_327793/486888831.py:60: UserWarning: FixedFormatter should only be used together with FixedLocator\n",
      "  ax.set_yticklabels(['{:.3f}'.format(x) for x in current_values])\n"
     ]
    }
   ],
   "source": [
    "pairs = pd.read_csv(str(Path(DATA_DIR) / \"01_WorldPositions_selection.csv\"),index_col=0,\n",
    "                    dtype=dtypes)\n",
    "inspect_objects = pairs.values[:,:2]\n",
    "# np.random.shuffle(inspect_objects)\n",
    "inspect_objects = [(99, np.nan), (209, np.nan),  (204, np.nan), (211, np.nan), (215, np.nan), (115, np.nan)]\n",
    "abscissa = \"xCenter\" if use_xy else \"lon\"\n",
    "ordinate = \"yCenter\" if use_xy else \"lat\"\n",
    "for leader, follower in inspect_objects[:1]:\n",
    "    leader = int(leader)\n",
    "    follower = \"N/A\" if np.isnan(follower) else int(follower)\n",
    "    times = data_frame[data_frame[\"trackId\"]==leader][\"time\"].values\n",
    "    rec_id = meta_data[\"recordingId\"].values[0]\n",
    "    actual_time = \\\n",
    "        data_frame[data_frame[\"trackId\"]==leader][\"intersectionCrossing\"]\n",
    "    if actual_time.values.shape[0] == 0:\n",
    "        continue\n",
    "    rec_id = meta_data[\"recordingId\"].values[0]\n",
    "    actual_time = actual_time.values[0]\n",
    "    actual_time = times[np.argmin(np.abs(times-actual_time))]\n",
    "    # actual_time=6.2\n",
    "    actual_frame = (\n",
    "        data_frame[(data_frame[\"trackId\"]==leader)\n",
    "                    & (data_frame[\"time\"]==actual_time)][\"frame\"].values[0]\n",
    "    ).astype(int)\n",
    "    fig, ax = plt.subplots(figsize=(14,14))\n",
    "    ax.set_title(f\"{rec_id}@{time.strftime('%H:%M:%S', time.gmtime(actual_time))} L={leader:d} F={follower}\")\n",
    "    ax.plot(crossing_points[::2], crossing_points[1::2], linestyle=\"dashed\")\n",
    "    for lane_id in lane_data[\"trackId\"].unique():\n",
    "        lane_chunk = lane_data[lane_data[\"trackId\"]==lane_id]\n",
    "        lon, lat = lane_chunk[abscissa].values, lane_chunk[ordinate].values\n",
    "        ax.plot(lon, lat, linewidth=0.5)\n",
    "    cars_at_time = [2]\n",
    "    for track_id in data_frame[\"trackId\"].unique():\n",
    "        data_chunk = data_frame[data_frame[\"trackId\"]==track_id]\n",
    "        conditions = (\n",
    "            any(data_chunk[\"time\"].values == actual_time))\n",
    "        if conditions:\n",
    "            cars_at_time.append(track_id)\n",
    "    for track_id in cars_at_time:\n",
    "        data_chunk = data_frame[data_frame[\"trackId\"]==track_id]\n",
    "        # if not car_goes_straight(lane_data, data_chunk):\n",
    "        #     continue\n",
    "        lon = data_chunk[data_chunk[\"time\"]==actual_time][abscissa].values\n",
    "        lat = data_chunk[data_chunk[\"time\"]==actual_time][ordinate].values\n",
    "        next_frame = actual_frame + 1 \n",
    "        dlon = data_chunk[data_chunk[\"frame\"]==next_frame][abscissa].values - lon\n",
    "        dlat = data_chunk[data_chunk[\"frame\"]==next_frame][ordinate].values - lat\n",
    "        if dlon.shape[0] == 0:\n",
    "            continue\n",
    "        ax.scatter(lon, lat)\n",
    "        if data_chunk[\"class\"].values[0] != \"Car\":\n",
    "            class_string = data_chunk[\"class\"].values[0]\n",
    "            ax.annotate(f\"{track_id}|{class_string}\", [lon, lat], fontsize=10)\n",
    "        else:\n",
    "            ax.annotate(f\"{track_id}\", [lon, lat], fontsize=10)\n",
    "        colormap = {leader: 'r', follower: 'g'}\n",
    "        color = colormap.get(track_id) or 'b'\n",
    "        ax.arrow(lon[0], lat[0], dlon[0], dlat[0], width=0.0000125, color=color)\n",
    "    current_values = ax.get_yticks()\n",
    "    ax.set_yticklabels(['{:.3f}'.format(x) for x in current_values])\n",
    "    current_values = ax.get_xticks()\n",
    "    ax.set_xticklabels(['{:.3f}'.format(x) for x in current_values])\n",
    "    plt.show()"
   ]
  },
  {
   "cell_type": "code",
   "execution_count": null,
   "metadata": {},
   "outputs": [],
   "source": [
    "fig, ax = plt.subplots()\n",
    "crossing_points = [\n",
    "        9.191343,\n",
    "        48.788692,\n",
    "        9.191638,\n",
    "        48.788567\n",
    "    ]\n",
    "for lane_id in lane_data[\"trackId\"].unique():\n",
    "        lane_chunk = lane_data[lane_data[\"trackId\"]==lane_id]\n",
    "        lon, lat = lane_chunk[\"lon\"].values, lane_chunk[\"lat\"].values\n",
    "        ax.plot(lon, lat, linewidth=0.5)\n",
    "data_chunk = data_frame[data_frame[\"trackId\"]==718]\n",
    "ax.plot(crossing_points[::2], crossing_points[1::2], linestyle=\"dashed\")\n",
    "data_chunk.plot(x=\"lon\", y=\"lat\", ax=ax)\n",
    "\n",
    "plt.show()"
   ]
  },
  {
   "cell_type": "code",
   "execution_count": null,
   "metadata": {},
   "outputs": [],
   "source": [
    "for data_frame, meta_data, lane_data in data_set.get_next_dataframes():\n",
    "    for leader, follower in following_cars(data_frame, lane_data):\n",
    "        print(f\"leader={leader} follower={follower}\")\n",
    "    fig, ax = plt.subplots()\n",
    "    data_chunk = data_frame[data_frame[\"trackId\"]==467]\n",
    "    get_lane(data_chunk[\"lon\"].values, data_chunk[\"lat\"].values, lane_data)\n",
    "    car_goes_straight(lane_data, data_chunk)\n",
    "    for lane_id in lane_data[\"trackId\"].unique():\n",
    "        lane_chunk = lane_data[lane_data[\"trackId\"]==lane_id]\n",
    "        lon, lat = lane_chunk[\"lon\"].values, lane_chunk[\"lat\"].values\n",
    "        ax.plot(lon, lat, linewidth=0.5)\n",
    "    ax.plot(data_chunk[\"lon\"].values, data_chunk[\"lat\"].values)\n",
    "    plt.show()\n",
    "    break"
   ]
  }
 ],
 "metadata": {
  "kernelspec": {
   "display_name": "studienarbeit",
   "language": "python",
   "name": "python3"
  },
  "language_info": {
   "codemirror_mode": {
    "name": "ipython",
    "version": 3
   },
   "file_extension": ".py",
   "mimetype": "text/x-python",
   "name": "python",
   "nbconvert_exporter": "python",
   "pygments_lexer": "ipython3",
   "version": "3.8.16"
  },
  "orig_nbformat": 4,
  "vscode": {
   "interpreter": {
    "hash": "b4840c99bb526bf1b01439c8004cc1db762ca7e6d6e36adca0729ed3f1434afb"
   }
  }
 },
 "nbformat": 4,
 "nbformat_minor": 2
}
